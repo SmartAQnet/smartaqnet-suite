{
 "cells": [
  {
   "cell_type": "code",
   "execution_count": 1,
   "metadata": {},
   "outputs": [],
   "source": [
    "import threading, logging, time\n",
    "import multiprocessing\n",
    "\n",
    "from kafka import KafkaConsumer, KafkaProducer\n",
    "\n",
    "kafkaUrl = \"smartaqnet-dev.teco.edu\"\n",
    "#kafkaUrl = \"smartaqnet.teco.edu\"\n",
    "class Producer(threading.Thread):\n",
    "    def __init__(self):\n",
    "        threading.Thread.__init__(self)\n",
    "        self.stop_event = threading.Event()\n",
    "        \n",
    "    def stop(self):\n",
    "        self.stop_event.set()\n",
    "\n",
    "    def run(self):\n",
    "        producer = KafkaProducer(bootstrap_servers=kafkaUrl+':9092')\n",
    "\n",
    "        while not self.stop_event.is_set():\n",
    "            producer.send('my-topic', b\"test\")\n",
    "            producer.send('my-topic', b\"\\xc2Hola, mundo!\")\n",
    "            time.sleep(1)\n",
    "\n",
    "        producer.close()\n",
    "\n",
    "class Consumer(multiprocessing.Process):\n",
    "    def __init__(self,topic):\n",
    "        multiprocessing.Process.__init__(self)\n",
    "        self.stop_event = multiprocessing.Event()\n",
    "        self.consumer = KafkaConsumer(bootstrap_servers= kafkaUrl + ':9092',\n",
    "                         auto_offset_reset='earliest',\n",
    "                         consumer_timeout_ms=1000)\n",
    "        self.consumer.subscribe(topic)\n",
    "        \n",
    "    def stop(self):\n",
    "        self.stop_event.set()\n",
    "        \n",
    "    def run(self):\n",
    "        \n",
    "\n",
    "        while not self.stop_event.is_set():\n",
    "            for message in self.consumer:\n",
    "                print(message)\n",
    "                if self.stop_event.is_set():\n",
    "                    break\n",
    "\n",
    "        self.consumer.close()"
   ]
  },
  {
   "cell_type": "code",
   "execution_count": 4,
   "metadata": {},
   "outputs": [
    {
     "name": "stdout",
     "output_type": "stream",
     "text": [
      "ConsumerRecord(topic=u'WG_Measurements', partition=0, offset=0, timestamp=1526303376712, timestamp_type=0, key='edu.teco.wang-IBADENWR82-Datastreams-AirTemperature-IBADENWR82', value=\"Row(ID=u'IBADENWR82', Time=u'00:00:00', Latitude=u'48.441', Longitude=u'9.257', AirTemperature=u'1.8')\", checksum=None, serialized_key_size=62, serialized_value_size=102)\n",
      "ConsumerRecord(topic=u'WG_Measurements', partition=0, offset=1, timestamp=1526303378149, timestamp_type=0, key='edu.teco.wang-IBADENWR82-Datastreams-AirTemperature-IBADENWR82', value=\"Row(ID=u'IBADENWR82', Time=u'00:50:00', Latitude=u'48.441', Longitude=u'9.257', AirTemperature=u'1.8')\", checksum=None, serialized_key_size=62, serialized_value_size=102)\n"
     ]
    }
   ],
   "source": [
    "tasks = [\n",
    "        #Producer(),\n",
    "        Consumer(['WG_Measurements'])\n",
    "]\n",
    "for t in tasks:\n",
    "        t.start()"
   ]
  },
  {
   "cell_type": "code",
   "execution_count": 3,
   "metadata": {},
   "outputs": [],
   "source": [
    "for t in tasks:\n",
    "        t.stop()"
   ]
  },
  {
   "cell_type": "code",
   "execution_count": null,
   "metadata": {},
   "outputs": [],
   "source": []
  }
 ],
 "metadata": {
  "kernelspec": {
   "display_name": "Python 2",
   "language": "python",
   "name": "python2"
  },
  "language_info": {
   "codemirror_mode": {
    "name": "ipython",
    "version": 2
   },
   "file_extension": ".py",
   "mimetype": "text/x-python",
   "name": "python",
   "nbconvert_exporter": "python",
   "pygments_lexer": "ipython2",
   "version": "2.7.14"
  }
 },
 "nbformat": 4,
 "nbformat_minor": 2
}
