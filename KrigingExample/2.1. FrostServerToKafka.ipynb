{
 "cells": [
  {
   "cell_type": "code",
   "execution_count": null,
   "metadata": {},
   "outputs": [],
   "source": [
    "## Subscribes entities from frost then publishes them to Kafka"
   ]
  },
  {
   "cell_type": "code",
   "execution_count": 1,
   "metadata": {},
   "outputs": [],
   "source": [
    "from __future__ import print_function\n",
    "import sqlite3\n",
    "import paho.mqtt.client as mqtt\n",
    "import csv\n",
    "import datetime\n",
    "import os\n",
    "import json\n",
    "import requests\n",
    "import sys\n",
    "from kafka import KafkaProducer\n",
    "from kafka import SimpleProducer, KafkaClient\n",
    "#basepath = '/root/sftp/volumes/saqn/\n",
    "import Helper"
   ]
  },
  {
   "cell_type": "code",
   "execution_count": 2,
   "metadata": {},
   "outputs": [],
   "source": [
    "kafkaHome = Helper.Helper.Kafkas[\"dev01\"].split(\"/\")[-1]\n",
    "\n",
    "frostHome = Helper.Helper.Frosts[\"dev01\"].split(\"/\")[-1]\n",
    "\n",
    "def on_connect(client, userdata, flags, rc):\n",
    "     print('Starting to log data.')\n",
    "     client.subscribe(\"v1.0/Things\")\n",
    "     client.subscribe(\"v1.0/Datastreams\")\n",
    "     client.subscribe(\"v1.0/Locations\")\n",
    "     client.subscribe(\"v1.0/HistoricalLocations\")\n",
    "     client.subscribe(\"v1.0/Sensors\")\n",
    "     client.subscribe(\"v1.0/ObservedProperties\")\n",
    "     client.subscribe(\"v1.0/FeaturesOfInterest\")\n",
    "     client.subscribe(\"v1.0/Observations\")\n",
    "\n",
    "     if rc==0:\n",
    "        print('connection established')\n",
    "\n",
    "     else:\n",
    "        print('Bad connection (return code = %d).' % rc)\n",
    "\n",
    "def on_message(client, userdata, msg):\n",
    "    payload = msg.payload\n",
    "    topic = msg.topic.split('/')[-1]\n",
    "\n",
    "    print(\"Receiving new message with topic: \" + topic)\n",
    "    #print(topic)\n",
    "    #print(payload)\n",
    "\n",
    "    data = json.loads(payload.decode(\"utf-8\"))\n",
    "    if(topic == \"Observations\"):\n",
    "        iot_id = data['Datastream']['@iot.id']\n",
    "    else:\n",
    "        iot_id = data.get('@iot.id')\n",
    "    #print(data)\n",
    "    producer.send(topic, key= str(iot_id), value=data)#msg.payload)\n",
    "    producer.flush()\n"
   ]
  },
  {
   "cell_type": "code",
   "execution_count": null,
   "metadata": {},
   "outputs": [
    {
     "name": "stdout",
     "output_type": "stream",
     "text": [
      "Starting to log data.\n",
      "connection established\n"
     ]
    }
   ],
   "source": [
    "kafka = KafkaClient( kafkaHome +':9092')\n",
    "\n",
    "#producer = SimpleProducer(kafka, async=True)\n",
    "#producer.send_messages(b'my-topic', b'async message')\n",
    "producer = KafkaProducer(bootstrap_servers=kafkaHome + ':9092',value_serializer=lambda v: json.dumps(v).encode('utf-8'), compression_type='gzip')\n",
    "\n",
    "#producer.send('fizzbuzz', key= 'uid', value={'foo': 'bar'})\n",
    "\n",
    "client = mqtt.Client()\n",
    "client.on_connect = on_connect\n",
    "client.on_message = on_message\n",
    "\n",
    "client.connect(frostHome, 1883, 60)\n",
    "client.loop_forever()\n"
   ]
  },
  {
   "cell_type": "code",
   "execution_count": null,
   "metadata": {},
   "outputs": [],
   "source": []
  }
 ],
 "metadata": {
  "kernelspec": {
   "display_name": "Python 2",
   "language": "python",
   "name": "python2"
  },
  "language_info": {
   "codemirror_mode": {
    "name": "ipython",
    "version": 2
   },
   "file_extension": ".py",
   "mimetype": "text/x-python",
   "name": "python",
   "nbconvert_exporter": "python",
   "pygments_lexer": "ipython2",
   "version": "2.7.14"
  }
 },
 "nbformat": 4,
 "nbformat_minor": 2
}
